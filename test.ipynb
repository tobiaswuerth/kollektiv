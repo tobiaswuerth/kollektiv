{
 "cells": [
  {
   "cell_type": "code",
   "execution_count": 1,
   "id": "f011525e",
   "metadata": {},
   "outputs": [],
   "source": [
    "from kollektiv.tools import Storage\n",
    "\n",
    "storage = Storage()"
   ]
  },
  {
   "cell_type": "code",
   "execution_count": 2,
   "id": "1c48c9ee",
   "metadata": {},
   "outputs": [
    {
     "data": {
      "text/plain": [
       "{'name': 'Storage',\n",
       " 'description': 'A tool for storing and retrieving personal files.',\n",
       " 'functions': [{'name': 'get_files',\n",
       "   'description': 'Get a list of all currently stored files.',\n",
       "   'function_input': {'properties': {},\n",
       "    'title': 'GetFilesInput',\n",
       "    'type': 'object'},\n",
       "   'function_output': {'$defs': {'ResponseStatus': {'maxItems': 2,\n",
       "      'minItems': 2,\n",
       "      'prefixItems': [{'title': 'Code', 'type': 'integer'},\n",
       "       {'title': 'Message', 'type': 'string'}],\n",
       "      'type': 'array'}},\n",
       "    'properties': {'status': {'$ref': '#/$defs/ResponseStatus'},\n",
       "     'files': {'items': {'type': 'string'},\n",
       "      'title': 'Files',\n",
       "      'type': 'array'}},\n",
       "    'required': ['status', 'files'],\n",
       "    'title': 'GetFilesOutput',\n",
       "    'type': 'object'}},\n",
       "  {'name': 'read_file',\n",
       "   'description': 'Read the content of a file.',\n",
       "   'function_input': {'properties': {'file_name': {'title': 'File Name',\n",
       "      'type': 'string'}},\n",
       "    'required': ['file_name'],\n",
       "    'title': 'ReadFileInput',\n",
       "    'type': 'object'},\n",
       "   'function_output': {'$defs': {'ResponseStatus': {'maxItems': 2,\n",
       "      'minItems': 2,\n",
       "      'prefixItems': [{'title': 'Code', 'type': 'integer'},\n",
       "       {'title': 'Message', 'type': 'string'}],\n",
       "      'type': 'array'}},\n",
       "    'properties': {'status': {'$ref': '#/$defs/ResponseStatus'},\n",
       "     'content': {'title': 'Content', 'type': 'string'}},\n",
       "    'required': ['status', 'content'],\n",
       "    'title': 'ReadFileOutput',\n",
       "    'type': 'object'}},\n",
       "  {'name': 'write_file',\n",
       "   'description': 'Write content to a file.',\n",
       "   'function_input': {'properties': {'file_name': {'title': 'File Name',\n",
       "      'type': 'string'},\n",
       "     'content': {'title': 'Content', 'type': 'string'}},\n",
       "    'required': ['file_name', 'content'],\n",
       "    'title': 'WriteFileInput',\n",
       "    'type': 'object'},\n",
       "   'function_output': {'$defs': {'ResponseStatus': {'maxItems': 2,\n",
       "      'minItems': 2,\n",
       "      'prefixItems': [{'title': 'Code', 'type': 'integer'},\n",
       "       {'title': 'Message', 'type': 'string'}],\n",
       "      'type': 'array'}},\n",
       "    'properties': {'status': {'$ref': '#/$defs/ResponseStatus'}},\n",
       "    'required': ['status'],\n",
       "    'title': 'WriteFileOutput',\n",
       "    'type': 'object'}}]}"
      ]
     },
     "execution_count": 2,
     "metadata": {},
     "output_type": "execute_result"
    }
   ],
   "source": [
    "storage.get_json_schema()"
   ]
  },
  {
   "cell_type": "code",
   "execution_count": 3,
   "id": "4032d8a0",
   "metadata": {},
   "outputs": [
    {
     "data": {
      "text/plain": [
       "{'properties': {}, 'title': 'StorageViewerInput', 'type': 'object'}"
      ]
     },
     "execution_count": 3,
     "metadata": {},
     "output_type": "execute_result"
    }
   ],
   "source": [
    "\n",
    "class StorageViewerInput(pydantic.BaseModel):\n",
    "    pass\n",
    "\n",
    "StorageViewerInput.model_json_schema()"
   ]
  }
 ],
 "metadata": {
  "kernelspec": {
   "display_name": ".venv",
   "language": "python",
   "name": "python3"
  },
  "language_info": {
   "codemirror_mode": {
    "name": "ipython",
    "version": 3
   },
   "file_extension": ".py",
   "mimetype": "text/x-python",
   "name": "python",
   "nbconvert_exporter": "python",
   "pygments_lexer": "ipython3",
   "version": "3.12.8"
  }
 },
 "nbformat": 4,
 "nbformat_minor": 5
}
